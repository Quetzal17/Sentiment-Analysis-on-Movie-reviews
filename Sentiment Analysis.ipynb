{
  "nbformat": 4,
  "nbformat_minor": 0,
  "metadata": {
    "colab": {
      "provenance": []
    },
    "kernelspec": {
      "name": "python3",
      "display_name": "Python 3"
    },
    "language_info": {
      "name": "python"
    }
  },
  "cells": [
    {
      "cell_type": "code",
      "execution_count": 1,
      "metadata": {
        "colab": {
          "base_uri": "https://localhost:8080/"
        },
        "id": "YPhyGb9_d80C",
        "outputId": "2325d41e-0ff6-4f96-bb3f-fae7326b4732"
      },
      "outputs": [
        {
          "output_type": "stream",
          "name": "stderr",
          "text": [
            "[nltk_data] Downloading package punkt to /root/nltk_data...\n",
            "[nltk_data]   Unzipping tokenizers/punkt.zip.\n",
            "[nltk_data] Downloading package stopwords to /root/nltk_data...\n",
            "[nltk_data]   Unzipping corpora/stopwords.zip.\n",
            "[nltk_data] Downloading package movie_reviews to /root/nltk_data...\n",
            "[nltk_data]   Unzipping corpora/movie_reviews.zip.\n"
          ]
        }
      ],
      "source": [
        "# Load the movie reviews dataset using NLTK\n",
        "import nltk\n",
        "nltk.download('punkt')\n",
        "nltk.download('stopwords')\n",
        "nltk.download('movie_reviews')\n",
        "from nltk.corpus import movie_reviews"
      ]
    },
    {
      "cell_type": "code",
      "source": [
        "# Load the required packages\n",
        "import random\n",
        "from sklearn.feature_extraction.text import CountVectorizer\n",
        "from sklearn.naive_bayes import MultinomialNB\n",
        "from sklearn.linear_model import LogisticRegression\n",
        "from sklearn.metrics import accuracy_score, f1_score, confusion_matrix"
      ],
      "metadata": {
        "id": "YDSInD9zeLQF"
      },
      "execution_count": 2,
      "outputs": []
    },
    {
      "cell_type": "code",
      "source": [
        "# Define a function to preprocess the text data\n",
        "def preprocess(text):\n",
        "    # Convert the text to lowercase\n",
        "    text = text.lower()\n",
        "    # Tokenize the text into words\n",
        "    words = nltk.word_tokenize(text)\n",
        "    # Remove stopwords\n",
        "    stopwords = nltk.corpus.stopwords.words('english')\n",
        "    words = [word for word in words if word not in stopwords]\n",
        "    # Stem the words\n",
        "    porter = nltk.PorterStemmer()\n",
        "    words = [porter.stem(word) for word in words]\n",
        "    # Join the stemmed words back into a single string\n",
        "    text = ' '.join(words)\n",
        "    return text"
      ],
      "metadata": {
        "id": "gqq2hwLUePCu"
      },
      "execution_count": 3,
      "outputs": []
    },
    {
      "cell_type": "code",
      "source": [
        "# Load the movie reviews dataset and preprocess the text data\n",
        "reviews = []\n",
        "for fileid in movie_reviews.fileids():\n",
        "    label = 'positive' if fileid.startswith('pos') else 'negative'\n",
        "    text = movie_reviews.raw(fileid)\n",
        "    reviews.append((text, label))\n",
        "random.shuffle(reviews)\n",
        "preprocessed_reviews = [(preprocess(text), label) for (text, label) in reviews]"
      ],
      "metadata": {
        "id": "d-G5_IXleWWV"
      },
      "execution_count": 4,
      "outputs": []
    },
    {
      "cell_type": "code",
      "source": [
        "# Load the movie reviews dataset and preprocess the text data\n",
        "reviews = []\n",
        "for fileid in movie_reviews.fileids():\n",
        "    label = 'positive' if fileid.startswith('pos') else 'negative'\n",
        "    text = movie_reviews.raw(fileid)\n",
        "    reviews.append((text, label))\n",
        "random.shuffle(reviews)\n",
        "preprocessed_reviews = [(preprocess(text), label) for (text, label) in reviews]"
      ],
      "metadata": {
        "id": "9ubvTuaNelcI"
      },
      "execution_count": 5,
      "outputs": []
    },
    {
      "cell_type": "code",
      "execution_count": 6,
      "metadata": {
        "id": "KsxrumlWCnDp"
      },
      "outputs": [],
      "source": [
        "# Split the preprocessed reviews into training and testing sets\n",
        "train_reviews = preprocessed_reviews[:1500]\n",
        "test_reviews = preprocessed_reviews[1500:]"
      ]
    },
    {
      "cell_type": "code",
      "source": [
        "# Transform the preprocessed training data into bag-of-words features\n",
        "vectorizer = CountVectorizer()\n",
        "train_features = vectorizer.fit_transform([review for (review, label) in train_reviews])\n",
        "train_labels = [label for (review, label) in train_reviews]"
      ],
      "metadata": {
        "id": "ciS4Yd5whAWS"
      },
      "execution_count": 7,
      "outputs": []
    },
    {
      "cell_type": "code",
      "source": [
        "# Train a Naive Bayes classifier and a logistic regression classifier on the training data\n",
        "nb_classifier = MultinomialNB()\n",
        "nb_classifier.fit(train_features, train_labels)\n",
        "\n",
        "lr_classifier = LogisticRegression()\n",
        "lr_classifier.fit(train_features, train_labels)"
      ],
      "metadata": {
        "colab": {
          "base_uri": "https://localhost:8080/",
          "height": 74
        },
        "id": "Qd1gXVPQhDjU",
        "outputId": "3778df72-917d-42b8-e065-9da4db2e95b9"
      },
      "execution_count": 8,
      "outputs": [
        {
          "output_type": "execute_result",
          "data": {
            "text/plain": [
              "LogisticRegression()"
            ],
            "text/html": [
              "<style>#sk-container-id-1 {color: black;background-color: white;}#sk-container-id-1 pre{padding: 0;}#sk-container-id-1 div.sk-toggleable {background-color: white;}#sk-container-id-1 label.sk-toggleable__label {cursor: pointer;display: block;width: 100%;margin-bottom: 0;padding: 0.3em;box-sizing: border-box;text-align: center;}#sk-container-id-1 label.sk-toggleable__label-arrow:before {content: \"▸\";float: left;margin-right: 0.25em;color: #696969;}#sk-container-id-1 label.sk-toggleable__label-arrow:hover:before {color: black;}#sk-container-id-1 div.sk-estimator:hover label.sk-toggleable__label-arrow:before {color: black;}#sk-container-id-1 div.sk-toggleable__content {max-height: 0;max-width: 0;overflow: hidden;text-align: left;background-color: #f0f8ff;}#sk-container-id-1 div.sk-toggleable__content pre {margin: 0.2em;color: black;border-radius: 0.25em;background-color: #f0f8ff;}#sk-container-id-1 input.sk-toggleable__control:checked~div.sk-toggleable__content {max-height: 200px;max-width: 100%;overflow: auto;}#sk-container-id-1 input.sk-toggleable__control:checked~label.sk-toggleable__label-arrow:before {content: \"▾\";}#sk-container-id-1 div.sk-estimator input.sk-toggleable__control:checked~label.sk-toggleable__label {background-color: #d4ebff;}#sk-container-id-1 div.sk-label input.sk-toggleable__control:checked~label.sk-toggleable__label {background-color: #d4ebff;}#sk-container-id-1 input.sk-hidden--visually {border: 0;clip: rect(1px 1px 1px 1px);clip: rect(1px, 1px, 1px, 1px);height: 1px;margin: -1px;overflow: hidden;padding: 0;position: absolute;width: 1px;}#sk-container-id-1 div.sk-estimator {font-family: monospace;background-color: #f0f8ff;border: 1px dotted black;border-radius: 0.25em;box-sizing: border-box;margin-bottom: 0.5em;}#sk-container-id-1 div.sk-estimator:hover {background-color: #d4ebff;}#sk-container-id-1 div.sk-parallel-item::after {content: \"\";width: 100%;border-bottom: 1px solid gray;flex-grow: 1;}#sk-container-id-1 div.sk-label:hover label.sk-toggleable__label {background-color: #d4ebff;}#sk-container-id-1 div.sk-serial::before {content: \"\";position: absolute;border-left: 1px solid gray;box-sizing: border-box;top: 0;bottom: 0;left: 50%;z-index: 0;}#sk-container-id-1 div.sk-serial {display: flex;flex-direction: column;align-items: center;background-color: white;padding-right: 0.2em;padding-left: 0.2em;position: relative;}#sk-container-id-1 div.sk-item {position: relative;z-index: 1;}#sk-container-id-1 div.sk-parallel {display: flex;align-items: stretch;justify-content: center;background-color: white;position: relative;}#sk-container-id-1 div.sk-item::before, #sk-container-id-1 div.sk-parallel-item::before {content: \"\";position: absolute;border-left: 1px solid gray;box-sizing: border-box;top: 0;bottom: 0;left: 50%;z-index: -1;}#sk-container-id-1 div.sk-parallel-item {display: flex;flex-direction: column;z-index: 1;position: relative;background-color: white;}#sk-container-id-1 div.sk-parallel-item:first-child::after {align-self: flex-end;width: 50%;}#sk-container-id-1 div.sk-parallel-item:last-child::after {align-self: flex-start;width: 50%;}#sk-container-id-1 div.sk-parallel-item:only-child::after {width: 0;}#sk-container-id-1 div.sk-dashed-wrapped {border: 1px dashed gray;margin: 0 0.4em 0.5em 0.4em;box-sizing: border-box;padding-bottom: 0.4em;background-color: white;}#sk-container-id-1 div.sk-label label {font-family: monospace;font-weight: bold;display: inline-block;line-height: 1.2em;}#sk-container-id-1 div.sk-label-container {text-align: center;}#sk-container-id-1 div.sk-container {/* jupyter's `normalize.less` sets `[hidden] { display: none; }` but bootstrap.min.css set `[hidden] { display: none !important; }` so we also need the `!important` here to be able to override the default hidden behavior on the sphinx rendered scikit-learn.org. See: https://github.com/scikit-learn/scikit-learn/issues/21755 */display: inline-block !important;position: relative;}#sk-container-id-1 div.sk-text-repr-fallback {display: none;}</style><div id=\"sk-container-id-1\" class=\"sk-top-container\"><div class=\"sk-text-repr-fallback\"><pre>LogisticRegression()</pre><b>In a Jupyter environment, please rerun this cell to show the HTML representation or trust the notebook. <br />On GitHub, the HTML representation is unable to render, please try loading this page with nbviewer.org.</b></div><div class=\"sk-container\" hidden><div class=\"sk-item\"><div class=\"sk-estimator sk-toggleable\"><input class=\"sk-toggleable__control sk-hidden--visually\" id=\"sk-estimator-id-1\" type=\"checkbox\" checked><label for=\"sk-estimator-id-1\" class=\"sk-toggleable__label sk-toggleable__label-arrow\">LogisticRegression</label><div class=\"sk-toggleable__content\"><pre>LogisticRegression()</pre></div></div></div></div></div>"
            ]
          },
          "metadata": {},
          "execution_count": 8
        }
      ]
    },
    {
      "cell_type": "code",
      "source": [
        "# Transform the preprocessed testing data into bag-of-words features\n",
        "test_features = vectorizer.transform([review for (review, label) in test_reviews])\n",
        "test_labels = [label for (review, label) in test_reviews]"
      ],
      "metadata": {
        "id": "kCkCcjMOhM9U"
      },
      "execution_count": 9,
      "outputs": []
    },
    {
      "cell_type": "code",
      "source": [
        "# Evaluate the performance of the classifiers on the testing data\n",
        "nb_predictions = nb_classifier.predict(test_features)\n",
        "lr_predictions = lr_classifier.predict(test_features)\n",
        "\n",
        "print(\"Naive Bayes Classifier:\")\n",
        "print(\"Accuracy:\", accuracy_score(test_labels, nb_predictions))\n",
        "print(\"F1 score:\", f1_score(test_labels, nb_predictions, average='weighted'))\n",
        "print(\"Confusion matrix:\")\n",
        "print(confusion_matrix(test_labels, nb_predictions))\n",
        "\n",
        "print(\"Logistic Regression Classifier:\")\n",
        "print(\"Accuracy:\", accuracy_score(test_labels, lr_predictions))\n",
        "print(\"F1 score:\", f1_score(test_labels, lr_predictions, average='weighted'))\n",
        "print(\"Confusion\")"
      ],
      "metadata": {
        "colab": {
          "base_uri": "https://localhost:8080/"
        },
        "id": "P0dhr13lhQVX",
        "outputId": "a98334ee-cd09-4d70-b869-38c57e609aa2"
      },
      "execution_count": 10,
      "outputs": [
        {
          "output_type": "stream",
          "name": "stdout",
          "text": [
            "Naive Bayes Classifier:\n",
            "Accuracy: 0.776\n",
            "F1 score: 0.775946218487395\n",
            "Confusion matrix:\n",
            "[[199  53]\n",
            " [ 59 189]]\n",
            "Logistic Regression Classifier:\n",
            "Accuracy: 0.818\n",
            "F1 score: 0.81799635998544\n",
            "Confusion\n"
          ]
        }
      ]
    },
    {
      "cell_type": "code",
      "source": [
        "import matplotlib.pyplot as plt\n",
        "import numpy as np\n",
        "\n",
        "# Generate random data\n",
        "labels = ['positive', 'negative', 'neutral']\n",
        "values = np.random.randint(0, 100, size=len(labels))\n",
        "\n",
        "# Create a pie chart\n",
        "fig, ax = plt.subplots()\n",
        "ax.pie(values, labels=labels, autopct='%1.1f%%')\n",
        "ax.set_title('Distribution of Sentiment Labels')\n",
        "\n",
        "# Show the chart\n",
        "plt.show()"
      ],
      "metadata": {
        "colab": {
          "base_uri": "https://localhost:8080/",
          "height": 264
        },
        "id": "sFPfTf9IhUGl",
        "outputId": "1ace1ed4-6fbd-4313-8e61-4044aa44bfb7"
      },
      "execution_count": 11,
      "outputs": [
        {
          "output_type": "display_data",
          "data": {
            "text/plain": [
              "<Figure size 432x288 with 1 Axes>"
            ],
            "image/png": "[encoded data removed]"
          },
          "metadata": {}
        }
      ]
    },
    {
      "cell_type": "code",
      "source": [
        "import seaborn as sns\n",
        "\n",
        "\n",
        "# Generate the confusion matrices\n",
        "nb_cm = confusion_matrix(test_labels, nb_predictions)\n",
        "lr_cm = confusion_matrix(test_labels, lr_predictions)\n",
        "\n",
        "# Plot the confusion matrices as heatmaps\n",
        "sns.heatmap(nb_cm, annot=True, cmap=\"Blues\", fmt=\"d\", xticklabels=['negative', 'positive'], yticklabels=['negative', 'positive'])\n",
        "plt.title(\"Naive Bayes Confusion Matrix\")\n",
        "plt.xlabel(\"Predicted Label\")\n",
        "plt.ylabel(\"True Label\")\n",
        "plt.show()\n",
        "\n",
        "sns.heatmap(lr_cm, annot=True, cmap=\"Blues\", fmt=\"d\", xticklabels=['negative', 'positive'], yticklabels=['negative', 'positive'])\n",
        "plt.title(\"Logistic Regression Confusion Matrix\")\n",
        "plt.xlabel(\"Predicted Label\")\n",
        "plt.ylabel(\"True Label\")\n",
        "plt.show()\n"
      ],
      "metadata": {
        "colab": {
          "base_uri": "https://localhost:8080/",
          "height": 573
        },
        "id": "T2nxCeE9hXzi",
        "outputId": "8ad23cdd-e3ac-4682-e81a-a4da2d01c7a0"
      },
      "execution_count": 12,
      "outputs": [
        {
          "output_type": "display_data",
          "data": {
            "text/plain": [
              "<Figure size 432x288 with 2 Axes>"
            ],
            "image/png": "[encoded data removed]"
          },
          "metadata": {
            "needs_background": "light"
          }
        },
        {
          "output_type": "display_data",
          "data": {
            "text/plain": [
              "<Figure size 432x288 with 2 Axes>"
            ],
            "image/png": "[encoded data removed]"
          },
          "metadata": {
            "needs_background": "light"
          }
        }
      ]
    }
  ]
}